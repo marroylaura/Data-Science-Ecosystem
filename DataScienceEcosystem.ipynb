{
 "cells": [
  {
   "cell_type": "markdown",
   "id": "dd2df5b3-0656-4b13-ba73-b5d1a17fcdf3",
   "metadata": {},
   "source": [
    "# Data Science Tools and Ecostsem "
   ]
  },
  {
   "cell_type": "markdown",
   "id": "48764af9-5f9d-4d9e-8be5-f3e68629fd8a",
   "metadata": {},
   "source": [
    "In this notebook, Data Science Tools and Ecosystem are summarized."
   ]
  },
  {
   "cell_type": "markdown",
   "id": "fc1fe7ac-4bdb-4c86-8dee-df7281256ba3",
   "metadata": {},
   "source": [
    "**Objective**\n",
    "* __Python__\n",
    "* __R__\n",
    "* __SQL__"
   ]
  },
  {
   "cell_type": "markdown",
   "id": "5275326a-8d69-4320-88f9-fa7776409f13",
   "metadata": {},
   "source": [
    "Some of the popular languages that Data Scientists uses are:\n",
    "1. Python\n",
    "2. R\n",
    "3. SQL\n",
    "4. Scala\n",
    "5. Java\n",
    "6. C++\n",
    "7. Julia"
   ]
  },
  {
   "cell_type": "markdown",
   "id": "91a83c16-020a-43e7-a855-6df7c16e7217",
   "metadata": {},
   "source": [
    "Some of the commonly used libraries used by Data Scientists include:\n",
    "1. Scientific Computing Libraries\n",
    "2. Visualization libraries\n",
    "3. Deep learing Libraries"
   ]
  },
  {
   "cell_type": "markdown",
   "id": "10ef8276-181e-47f9-bd6f-38a6a4396f93",
   "metadata": {},
   "source": [
    "|Data Science Tools|\n",
    "|------------------|\n",
    "|Jupyter           |\n",
    "|RStudio           |\n",
    "|Spyder            |\n"
   ]
  },
  {
   "cell_type": "markdown",
   "id": "917709ac-a9b8-4b6a-8fa7-ce3054eeda46",
   "metadata": {},
   "source": [
    "### Below are a few examples of evaluating arithmethic expressions in Python"
   ]
  },
  {
   "cell_type": "code",
   "execution_count": 51,
   "id": "2f7ae8e5-e13d-4c88-be1d-964c13dc5592",
   "metadata": {},
   "outputs": [
    {
     "data": {
      "text/plain": [
       "17.0"
      ]
     },
     "execution_count": 51,
     "metadata": {},
     "output_type": "execute_result"
    }
   ],
   "source": [
    "# This is a simple arithmetic expression to multiply.\n",
    "(3*4)+5."
   ]
  },
  {
   "cell_type": "code",
   "execution_count": 53,
   "id": "c50a8640-0298-414c-afc4-413d10845245",
   "metadata": {},
   "outputs": [
    {
     "name": "stdout",
     "output_type": "stream",
     "text": [
      "3.3333333333333335\n"
     ]
    }
   ],
   "source": [
    "# This will covert 200 minutes to hours by diving by 60.\n",
    "minutes = 200\n",
    "hours = minutes / 60\n",
    "\n",
    "print(hours)"
   ]
  },
  {
   "cell_type": "markdown",
   "id": "8a39d885-a151-4fcf-883e-714a7674c5eb",
   "metadata": {},
   "source": [
    "## Author\n",
    "Laura Marroy"
   ]
  },
  {
   "cell_type": "code",
   "execution_count": null,
   "id": "c1f5050d-01db-4c90-8242-49bf3d835baa",
   "metadata": {},
   "outputs": [],
   "source": []
  }
 ],
 "metadata": {
  "kernelspec": {
   "display_name": "Python 3 (ipykernel)",
   "language": "python",
   "name": "python3"
  },
  "language_info": {
   "codemirror_mode": {
    "name": "ipython",
    "version": 3
   },
   "file_extension": ".py",
   "mimetype": "text/x-python",
   "name": "python",
   "nbconvert_exporter": "python",
   "pygments_lexer": "ipython3",
   "version": "3.12.7"
  }
 },
 "nbformat": 4,
 "nbformat_minor": 5
}
